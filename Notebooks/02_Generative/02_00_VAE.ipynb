{
 "cells": [
  {
   "attachments": {},
   "cell_type": "markdown",
   "metadata": {},
   "source": [
    "# Variational Autoencoder implemented in JaX!\n",
    "\n",
    "> Variational autoencoders can be a little bit tricky so they may be a good practice with JaX!"
   ]
  },
  {
   "cell_type": "code",
   "execution_count": null,
   "metadata": {},
   "outputs": [
    {
     "name": "stderr",
     "output_type": "stream",
     "text": [
      "2023-05-01 13:46:43.807364: I tensorflow/core/util/port.cc:110] oneDNN custom operations are on. You may see slightly different numerical results due to floating-point round-off errors from different computation orders. To turn them off, set the environment variable `TF_ENABLE_ONEDNN_OPTS=0`.\n",
      "2023-05-01 13:46:43.860179: I tensorflow/core/platform/cpu_feature_guard.cc:182] This TensorFlow binary is optimized to use available CPU instructions in performance-critical operations.\n",
      "To enable the following instructions: AVX2 AVX512F AVX512_VNNI FMA, in other operations, rebuild TensorFlow with the appropriate compiler flags.\n",
      "2023-05-01 13:46:46.020888: W tensorflow/compiler/tf2tensorrt/utils/py_utils.cc:38] TF-TRT Warning: Could not find TensorRT\n"
     ]
    }
   ],
   "source": [
    "import tensorflow as tf\n",
    "tf.config.set_visible_devices([], device_type='GPU')"
   ]
  },
  {
   "cell_type": "code",
   "execution_count": null,
   "metadata": {},
   "outputs": [],
   "source": [
    "from typing import Any, Callable, Sequence, Union\n",
    "import numpy as np\n",
    "import matplotlib.pyplot as plt\n",
    "\n",
    "import jax\n",
    "from jax import lax, random, numpy as jnp\n",
    "from flax.core import freeze, unfreeze, FrozenDict\n",
    "from flax import linen as nn\n",
    "from flax import struct\n",
    "from flax.training import train_state\n",
    "\n",
    "import optax\n",
    "\n",
    "from clu import metrics\n",
    "from ml_collections import ConfigDict\n",
    "\n",
    "from einops import rearrange, reduce\n",
    "\n",
    "from iqadatasets.datasets import *\n",
    "from fxlayers.layers import *"
   ]
  },
  {
   "attachments": {},
   "cell_type": "markdown",
   "metadata": {},
   "source": [
    "## Get some data\n",
    "\n",
    "> The interesting part is going to be the model/training definition, so we'll use MNIST to keep it as simple as possible."
   ]
  },
  {
   "cell_type": "code",
   "execution_count": null,
   "metadata": {},
   "outputs": [
    {
     "data": {
      "text/plain": [
       "((60000, 28, 28, 1), (60000,), (10000, 28, 28, 1), (10000,))"
      ]
     },
     "execution_count": null,
     "metadata": {},
     "output_type": "execute_result"
    }
   ],
   "source": [
    "(X_train, Y_train), (X_test, Y_test) = tf.keras.datasets.mnist.load_data()\n",
    "\n",
    "X_train = X_train[:,:,:,None]/255.0\n",
    "X_test = X_test[:,:,:,None]/255.0\n",
    "Y_train = Y_train.astype(np.int32)\n",
    "Y_test = Y_test.astype(np.int32)\n",
    "\n",
    "X_train.shape, Y_train.shape, X_test.shape, Y_test.shape"
   ]
  },
  {
   "cell_type": "code",
   "execution_count": null,
   "metadata": {},
   "outputs": [],
   "source": [
    "dst_train = tf.data.Dataset.from_tensor_slices((X_train))\n",
    "dst_val = tf.data.Dataset.from_tensor_slices((X_test))"
   ]
  },
  {
   "cell_type": "code",
   "execution_count": null,
   "metadata": {},
   "outputs": [
    {
     "data": {
      "text/plain": [
       "BATCH_SIZE: 32\n",
       "EPOCHS: 5\n",
       "LEARNING_RATE: 0.0003"
      ]
     },
     "execution_count": null,
     "metadata": {},
     "output_type": "execute_result"
    }
   ],
   "source": [
    "config = {\n",
    "    \"BATCH_SIZE\": 32,\n",
    "    \"EPOCHS\": 5,\n",
    "    \"LEARNING_RATE\": 3e-4,\n",
    "}\n",
    "config = ConfigDict(config)\n",
    "config"
   ]
  },
  {
   "cell_type": "code",
   "execution_count": null,
   "metadata": {},
   "outputs": [],
   "source": [
    "dst_train_rdy = dst_train.batch(config.BATCH_SIZE)\n",
    "dst_val_rdy = dst_val.batch(config.BATCH_SIZE)"
   ]
  },
  {
   "attachments": {},
   "cell_type": "markdown",
   "metadata": {},
   "source": [
    "## Define the model we're going to use\n",
    "\n",
    "> As we want to be able to encode and decode images separatelly, we should define the encoder and decoder modules."
   ]
  },
  {
   "cell_type": "code",
   "execution_count": null,
   "metadata": {},
   "outputs": [],
   "source": [
    "class Encoder(nn.Module):\n",
    "    \"\"\"CVAE Encoder\"\"\"\n",
    "    latent_dim: int = 2\n",
    "\n",
    "    @nn.compact\n",
    "    def __call__(self,\n",
    "                 inputs,\n",
    "                 **kwargs,\n",
    "                 ):\n",
    "        \"\"\"Takes an image as inputs and encodes it as a mean and logvar.\"\"\"\n",
    "        outputs = nn.Conv(features=32, kernel_size=(5,5), strides=1, padding=\"SAME\")(inputs)\n",
    "        outputs = nn.relu(outputs)\n",
    "        outputs = nn.max_pool(outputs, window_shape=(2,2), strides=(2,2))\n",
    "        outputs = nn.Conv(features=64, kernel_size=(3,3), strides=1, padding=\"SAME\")(outputs)\n",
    "        outputs = nn.relu(outputs)\n",
    "        outputs = nn.max_pool(outputs, window_shape=(2,2), strides=(2,2))\n",
    "        outputs = rearrange(outputs, \"b h w c -> b (h w c)\")\n",
    "        mean, logvar = nn.Dense(features=self.latent_dim)(outputs), nn.Dense(features=self.latent_dim)(outputs)\n",
    "        return mean, logvar"
   ]
  },
  {
   "cell_type": "code",
   "execution_count": null,
   "metadata": {},
   "outputs": [],
   "source": [
    "class Decoder(nn.Module):\n",
    "    \"\"\"CVAE Encoder\"\"\"\n",
    "    \n",
    "    @nn.compact\n",
    "    def __call__(self,\n",
    "                 inputs,\n",
    "                 **kwargs,\n",
    "                 ):\n",
    "        \"\"\"Takes a resampled point and outputs an image.\"\"\"\n",
    "        outputs = nn.Dense(features=3136)(inputs)\n",
    "        outputs = nn.relu(outputs)\n",
    "        outputs = rearrange(outputs, \"b (h w c) -> b h w c\", h=7, w=7, c=64)\n",
    "        outputs = nn.ConvTranspose(features=32, kernel_size=(3,3), strides=(2,2), padding=\"SAME\")(outputs)\n",
    "        outputs = nn.relu(outputs)\n",
    "        outputs = nn.ConvTranspose(features=1, kernel_size=(5,5), strides=(2,2), padding=\"SAME\")(outputs)\n",
    "        outputs = nn.relu(outputs)\n",
    "        return outputs"
   ]
  },
  {
   "cell_type": "code",
   "execution_count": null,
   "metadata": {},
   "outputs": [],
   "source": [
    "class CVAE(nn.Module):\n",
    "    \"\"\"Convolutional Variational Autoencoder\"\"\"\n",
    "    latent_dim: int = 2\n",
    "\n",
    "    def setup(self):\n",
    "        self.encoder = Encoder(latent_dim=self.latent_dim)\n",
    "        self.decoder = Decoder()\n",
    "\n",
    "    def __call__(self,\n",
    "                 inputs,\n",
    "                 key=random.PRNGKey(0),\n",
    "                 train=True,\n",
    "                 **kwargs,\n",
    "                 ):\n",
    "        mean, logvar = self.encoder(inputs)\n",
    "        z = self.resample(key, mean, logvar)\n",
    "        outputs = self.decoder(z)\n",
    "        ## We have to return the mean and logvar to calculate the loss during training\n",
    "        ## but we don't need them during validation/testing.\n",
    "        # return jnp.where(train, jnp.array([outputs, mean, logvar]), outputs)\n",
    "        return outputs, mean, logvar\n",
    "    \n",
    "    @staticmethod\n",
    "    def resample(key,\n",
    "                 mean,\n",
    "                 logvar,\n",
    "                 ):\n",
    "        return mean + jnp.exp(0.5*logvar)*random.normal(key, shape=logvar.shape)"
   ]
  },
  {
   "cell_type": "markdown",
   "metadata": {},
   "source": [
    "## Define the metrics with `clu`"
   ]
  },
  {
   "cell_type": "code",
   "execution_count": null,
   "metadata": {},
   "outputs": [],
   "source": [
    "@struct.dataclass\n",
    "class Metrics(metrics.Collection):\n",
    "    \"\"\"Collection of metrics to be tracked during training.\"\"\"\n",
    "    total_loss: metrics.Average.from_output(\"total_loss\")\n",
    "    reconstruction_loss: metrics.Average.from_output(\"reconstruction_loss\")\n",
    "    kl_div: metrics.Average.from_output(\"kl_div\")"
   ]
  },
  {
   "cell_type": "markdown",
   "metadata": {},
   "source": [
    "By default, `TrainState` doesn't include metrics, but it's very easy to subclass it so that it does:"
   ]
  },
  {
   "cell_type": "code",
   "execution_count": null,
   "metadata": {},
   "outputs": [],
   "source": [
    "class TrainState(train_state.TrainState):\n",
    "    metrics: Metrics"
   ]
  },
  {
   "cell_type": "markdown",
   "metadata": {},
   "source": [
    "We'll define a function that initializes the `TrainState` from a module, a rng key and some optimizer:"
   ]
  },
  {
   "cell_type": "code",
   "execution_count": null,
   "metadata": {},
   "outputs": [],
   "source": [
    "def create_train_state(module, key, tx, input_shape):\n",
    "    \"\"\"Creates the initial `TrainState`.\"\"\"\n",
    "    params = module.init(key, jnp.ones(input_shape))[\"params\"]\n",
    "    return TrainState.create(\n",
    "        apply_fn=module.apply,\n",
    "        params=params,\n",
    "        tx=tx,\n",
    "        metrics=Metrics.empty()\n",
    "    )"
   ]
  },
  {
   "cell_type": "markdown",
   "metadata": {},
   "source": [
    "## Defining the training step\n",
    "\n",
    "> We want to write a function that takes the `TrainState` and a batch of data can performs an optimization step."
   ]
  },
  {
   "attachments": {},
   "cell_type": "markdown",
   "metadata": {},
   "source": [
    "We are going to define the KL Divergence ourselves (because it has a closed form when comparing two Normal distributions).\n",
    "\n",
    "> See that we define it for a single sample but we will vmap it after."
   ]
  },
  {
   "cell_type": "code",
   "execution_count": null,
   "metadata": {},
   "outputs": [],
   "source": [
    "def kl_divergence(mean, logvar):\n",
    "  return -0.5 * jnp.sum(1 + logvar - jnp.square(mean) - jnp.exp(logvar))"
   ]
  },
  {
   "cell_type": "code",
   "execution_count": null,
   "metadata": {},
   "outputs": [],
   "source": [
    "@jax.jit\n",
    "def train_step(state, batch):\n",
    "    \"\"\"Train for a single step.\"\"\"\n",
    "    inputs = batch\n",
    "    def loss_fn(params):\n",
    "        pred, mean, logvar = state.apply_fn({\"params\": params}, inputs)\n",
    "        reconstruction_loss = optax.l2_loss(predictions=pred, targets=inputs).mean()\n",
    "        kl_loss = jax.vmap(kl_divergence, in_axes=(0,0))(mean, logvar).mean()\n",
    "        total_loss = reconstruction_loss + kl_loss\n",
    "        return total_loss, (pred, reconstruction_loss, kl_loss)\n",
    "    (total_loss, (pred, reconstruction_loss, kl_loss)), grads = jax.value_and_grad(loss_fn, has_aux=True)(state.params)\n",
    "    state = state.apply_gradients(grads=grads)\n",
    "    def compute_metrics(state):\n",
    "        metric_updates = state.metrics.single_from_model_output(\n",
    "            total_loss=total_loss, reconstruction_loss=reconstruction_loss, kl_div=kl_loss\n",
    "        )\n",
    "        metrics = state.metrics.merge(metric_updates)\n",
    "        state = state.replace(metrics=metrics)\n",
    "        return state\n",
    "    state = compute_metrics(state)\n",
    "    return state"
   ]
  },
  {
   "cell_type": "code",
   "execution_count": null,
   "metadata": {},
   "outputs": [],
   "source": [
    "@jax.jit\n",
    "def compute_metrics(*, state, batch):\n",
    "    \"\"\"Compute metrics for a single batch.\"\"\"\n",
    "    inputs = batch\n",
    "    def loss_fn(params):\n",
    "        pred, mean, logvar = state.apply_fn({\"params\": params}, inputs)\n",
    "        reconstruction_loss = optax.l2_loss(predictions=pred, targets=inputs).mean()\n",
    "        kl_loss = jax.vmap(kl_divergence, in_axes=(0,0))(mean, logvar).mean()\n",
    "        total_loss = reconstruction_loss + kl_loss\n",
    "        return total_loss, (pred, reconstruction_loss, kl_loss)\n",
    "    total_loss, (pred, reconstruction_loss, kl_loss) = loss_fn(state.params)\n",
    "    def _compute_metrics(state):\n",
    "        metric_updates = state.metrics.single_from_model_output(\n",
    "            total_loss=total_loss, reconstruction_loss=reconstruction_loss, kl_div=kl_loss\n",
    "        )\n",
    "        metrics = state.metrics.merge(metric_updates)\n",
    "        state = state.replace(metrics=metrics)\n",
    "        return state\n",
    "    state = _compute_metrics(state)\n",
    "    return state"
   ]
  },
  {
   "cell_type": "markdown",
   "metadata": {},
   "source": [
    "## Train the model!"
   ]
  },
  {
   "cell_type": "code",
   "execution_count": null,
   "metadata": {},
   "outputs": [],
   "source": [
    "state = create_train_state(CVAE(), random.PRNGKey(0), optax.adam(config.LEARNING_RATE), input_shape=(1,28,28,1))"
   ]
  },
  {
   "cell_type": "code",
   "execution_count": null,
   "metadata": {},
   "outputs": [],
   "source": [
    "metrics_history = {\n",
    "    \"train_total_loss\": [],\n",
    "    \"val_total_loss\": [],\n",
    "    \"train_reconstruction_loss\": [],\n",
    "    \"val_reconstruction_loss\": [],\n",
    "    \"train_kl_div\": [],\n",
    "    \"val_kl_div\": [],\n",
    "}"
   ]
  },
  {
   "cell_type": "code",
   "execution_count": null,
   "metadata": {},
   "outputs": [
    {
     "name": "stdout",
     "output_type": "stream",
     "text": [
      "Epoch 0 -> [Train] Total Loss: 0.03677105903625488 | Reconstruction: 0.03485780954360962 | KL: 0.0019132716115564108 [Val] Total Loss: 0.03431036323308945 | Reconstruction: 0.03427962586283684 | KL: 3.073074185522273e-05\n",
      "Epoch 1 -> [Train] Total Loss: 0.03368878364562988 | Reconstruction: 0.03368175029754639 | KL: 7.0610335569654126e-06 [Val] Total Loss: 0.034519486129283905 | Reconstruction: 0.03451821208000183 | KL: 1.2732785990010598e-06\n",
      "Epoch 2 -> [Train] Total Loss: 0.033580709248781204 | Reconstruction: 0.03358020633459091 | KL: 5.684336201738915e-07 [Val] Total Loss: 0.03442131355404854 | Reconstruction: 0.03442039340734482 | KL: 9.191528533847304e-07\n",
      "Epoch 3 -> [Train] Total Loss: 0.03352777287364006 | Reconstruction: 0.0335274338722229 | KL: 3.036886369045533e-07 [Val] Total Loss: 0.034319933503866196 | Reconstruction: 0.03431900963187218 | KL: 9.296860525864759e-07\n",
      "Epoch 4 -> [Train] Total Loss: 0.03349529206752777 | Reconstruction: 0.0334949791431427 | KL: 3.5220733707319596e-07 [Val] Total Loss: 0.034218478947877884 | Reconstruction: 0.03421798720955849 | KL: 5.371261408981809e-07\n",
      "CPU times: user 27.1 s, sys: 1.6 s, total: 28.7 s\n",
      "Wall time: 14.8 s\n"
     ]
    }
   ],
   "source": [
    "%%time\n",
    "for epoch in range(config.EPOCHS):\n",
    "    ## Training\n",
    "    for batch in dst_train_rdy.as_numpy_iterator():\n",
    "        state = train_step(state, batch)\n",
    "        # state = compute_metrics(state=state, batch=batch)\n",
    "        # break\n",
    "\n",
    "    ## Log the metrics\n",
    "    for name, value in state.metrics.compute().items():\n",
    "        metrics_history[f\"train_{name}\"].append(value)\n",
    "    \n",
    "    ## Empty the metrics\n",
    "    state = state.replace(metrics=state.metrics.empty())\n",
    "\n",
    "    ## Evaluation\n",
    "    for batch in dst_val_rdy.as_numpy_iterator():\n",
    "        state = compute_metrics(state=state, batch=batch)\n",
    "        # break\n",
    "    for name, value in state.metrics.compute().items():\n",
    "        metrics_history[f\"val_{name}\"].append(value)\n",
    "    state = state.replace(metrics=state.metrics.empty())\n",
    "    \n",
    "    # wandb.log({\"epoch\": epoch+1, **{name:values[-1] for name, values in metrics_history.items()}})\n",
    "    print(f'Epoch {epoch} -> [Train] Total Loss: {metrics_history[\"train_total_loss\"][-1]} | Reconstruction: {metrics_history[\"train_reconstruction_loss\"][-1]} | KL: {metrics_history[\"train_kl_div\"][-1]} [Val] Total Loss: {metrics_history[\"val_total_loss\"][-1]} | Reconstruction: {metrics_history[\"val_reconstruction_loss\"][-1]} | KL: {metrics_history[\"val_kl_div\"][-1]}')\n",
    "    # break"
   ]
  },
  {
   "attachments": {},
   "cell_type": "markdown",
   "metadata": {},
   "source": [
    "## Generate samples!\n",
    "\n",
    "> To generate samples we have to generate normal distributed numbers and pass them through the decoder of the model."
   ]
  },
  {
   "cell_type": "code",
   "execution_count": null,
   "metadata": {},
   "outputs": [],
   "source": [
    "from functools import partial"
   ]
  },
  {
   "cell_type": "code",
   "execution_count": null,
   "metadata": {},
   "outputs": [],
   "source": [
    "partial(jax.jit, static_argnums=(2))\n",
    "def generate(key, n, params, latent_dim=2):\n",
    "    latents = random.normal(key, shape=(n,latent_dim))\n",
    "    pred = Decoder().apply(params, latents)\n",
    "    return pred"
   ]
  },
  {
   "cell_type": "code",
   "execution_count": null,
   "metadata": {},
   "outputs": [
    {
     "name": "stdout",
     "output_type": "stream",
     "text": [
      "CPU times: user 42 µs, sys: 12 µs, total: 54 µs\n",
      "Wall time: 107 µs\n"
     ]
    }
   ],
   "source": [
    "%time\n",
    "g = generate(random.PRNGKey(0), 10, {\"params\": state.params[\"decoder\"]}, latent_dim=2)"
   ]
  },
  {
   "cell_type": "code",
   "execution_count": null,
   "metadata": {},
   "outputs": [
    {
     "data": {
      "image/png": "[encoded data removed]",
      "text/plain": [
       "<Figure size 640x480 with 10 Axes>"
      ]
     },
     "metadata": {},
     "output_type": "display_data"
    }
   ],
   "source": [
    "fig, axes = plt.subplots(1,10)\n",
    "for img, ax in zip(g, axes):\n",
    "    ax.imshow(img)\n",
    "    ax.axis(\"off\")\n",
    "plt.show()"
   ]
  }
 ],
 "metadata": {
  "kernelspec": {
   "display_name": "python3",
   "language": "python",
   "name": "python3"
  }
 },
 "nbformat": 4,
 "nbformat_minor": 2
}
